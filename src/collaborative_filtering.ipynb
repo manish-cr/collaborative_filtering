{
 "cells": [
  {
   "cell_type": "code",
   "execution_count": 1,
   "metadata": {},
   "outputs": [],
   "source": [
    "# Data processing\n",
    "import pandas as pd\n",
    "import numpy as np\n",
    "import scipy.stats\n",
    "\n",
    "# Visualization\n",
    "import seaborn as sns\n",
    "\n",
    "# Similarity\n",
    "from sklearn.metrics.pairwise import cosine_similarity"
   ]
  },
  {
   "cell_type": "code",
   "execution_count": 2,
   "metadata": {},
   "outputs": [],
   "source": [
    "df = pd.read_csv('../data/songsDataset.csv')"
   ]
  },
  {
   "cell_type": "code",
   "execution_count": 3,
   "metadata": {},
   "outputs": [
    {
     "data": {
      "text/html": [
       "<div>\n",
       "<style scoped>\n",
       "    .dataframe tbody tr th:only-of-type {\n",
       "        vertical-align: middle;\n",
       "    }\n",
       "\n",
       "    .dataframe tbody tr th {\n",
       "        vertical-align: top;\n",
       "    }\n",
       "\n",
       "    .dataframe thead th {\n",
       "        text-align: right;\n",
       "    }\n",
       "</style>\n",
       "<table border=\"1\" class=\"dataframe\">\n",
       "  <thead>\n",
       "    <tr style=\"text-align: right;\">\n",
       "      <th></th>\n",
       "      <th>'userID'</th>\n",
       "      <th>'songID'</th>\n",
       "      <th>'rating'</th>\n",
       "    </tr>\n",
       "  </thead>\n",
       "  <tbody>\n",
       "    <tr>\n",
       "      <th>0</th>\n",
       "      <td>0</td>\n",
       "      <td>7171</td>\n",
       "      <td>5</td>\n",
       "    </tr>\n",
       "    <tr>\n",
       "      <th>1</th>\n",
       "      <td>0</td>\n",
       "      <td>8637</td>\n",
       "      <td>4</td>\n",
       "    </tr>\n",
       "    <tr>\n",
       "      <th>2</th>\n",
       "      <td>0</td>\n",
       "      <td>21966</td>\n",
       "      <td>4</td>\n",
       "    </tr>\n",
       "    <tr>\n",
       "      <th>3</th>\n",
       "      <td>0</td>\n",
       "      <td>35821</td>\n",
       "      <td>5</td>\n",
       "    </tr>\n",
       "    <tr>\n",
       "      <th>4</th>\n",
       "      <td>0</td>\n",
       "      <td>82446</td>\n",
       "      <td>5</td>\n",
       "    </tr>\n",
       "  </tbody>\n",
       "</table>\n",
       "</div>"
      ],
      "text/plain": [
       "   'userID'  'songID'  'rating'\n",
       "0         0      7171         5\n",
       "1         0      8637         4\n",
       "2         0     21966         4\n",
       "3         0     35821         5\n",
       "4         0     82446         5"
      ]
     },
     "execution_count": 3,
     "metadata": {},
     "output_type": "execute_result"
    }
   ],
   "source": [
    "df.head()"
   ]
  },
  {
   "cell_type": "code",
   "execution_count": 4,
   "metadata": {},
   "outputs": [
    {
     "name": "stdout",
     "output_type": "stream",
     "text": [
      "Index(['userID', 'songID', 'rating'], dtype='object')\n"
     ]
    }
   ],
   "source": [
    "# Remove extra quotes from column names\n",
    "df.columns = df.columns.str.strip(\"'\")\n",
    "\n",
    "# Now the column names should be corrected\n",
    "print(df.columns)"
   ]
  },
  {
   "cell_type": "code",
   "execution_count": 5,
   "metadata": {},
   "outputs": [
    {
     "name": "stdout",
     "output_type": "stream",
     "text": [
      "(2000000, 3)\n",
      "200000\n",
      "127771\n"
     ]
    }
   ],
   "source": [
    "# there is too much data at the moment, we must sample it\n",
    "print(df.shape)\n",
    "print(df['userID'].nunique())\n",
    "print(df['songID'].nunique())"
   ]
  },
  {
   "cell_type": "code",
   "execution_count": 6,
   "metadata": {},
   "outputs": [
    {
     "name": "stdout",
     "output_type": "stream",
     "text": [
      "<class 'pandas.core.frame.DataFrame'>\n",
      "Index: 56 entries, 2118 to 125910\n",
      "Data columns (total 2 columns):\n",
      " #   Column             Non-Null Count  Dtype\n",
      "---  ------             --------------  -----\n",
      " 0   songID             56 non-null     int64\n",
      " 1   number_of_ratings  56 non-null     int64\n",
      "dtypes: int64(2)\n",
      "memory usage: 1.3 KB\n"
     ]
    }
   ],
   "source": [
    "# for ease of calculation, we are getting the songs with over 1000 ratings and also aggregating by songID\n",
    "agg_ratings = df.groupby('songID').agg(number_of_ratings = ('rating', 'count')).reset_index()\n",
    "\n",
    "agg_ratings_GT1000 = agg_ratings[agg_ratings['number_of_ratings']>1000]\n",
    "agg_ratings_GT1000.info()"
   ]
  },
  {
   "cell_type": "code",
   "execution_count": 7,
   "metadata": {},
   "outputs": [
    {
     "name": "stdout",
     "output_type": "stream",
     "text": [
      "<class 'pandas.core.frame.DataFrame'>\n",
      "RangeIndex: 72046 entries, 0 to 72045\n",
      "Data columns (total 3 columns):\n",
      " #   Column  Non-Null Count  Dtype\n",
      "---  ------  --------------  -----\n",
      " 0   userID  72046 non-null  int64\n",
      " 1   songID  72046 non-null  int64\n",
      " 2   rating  72046 non-null  int64\n",
      "dtypes: int64(3)\n",
      "memory usage: 1.6 MB\n"
     ]
    }
   ],
   "source": [
    "# merge the two dataframes (to ensure that we only have songs with over 100 ratings)\n",
    "df_GT1000 = pd.merge(df, agg_ratings_GT1000[['songID']], on='songID', how='inner')\n",
    "df_GT1000.info()"
   ]
  },
  {
   "cell_type": "code",
   "execution_count": 8,
   "metadata": {},
   "outputs": [
    {
     "data": {
      "text/html": [
       "<div>\n",
       "<style scoped>\n",
       "    .dataframe tbody tr th:only-of-type {\n",
       "        vertical-align: middle;\n",
       "    }\n",
       "\n",
       "    .dataframe tbody tr th {\n",
       "        vertical-align: top;\n",
       "    }\n",
       "\n",
       "    .dataframe thead th {\n",
       "        text-align: right;\n",
       "    }\n",
       "</style>\n",
       "<table border=\"1\" class=\"dataframe\">\n",
       "  <thead>\n",
       "    <tr style=\"text-align: right;\">\n",
       "      <th></th>\n",
       "      <th>userID</th>\n",
       "      <th>songID</th>\n",
       "      <th>rating</th>\n",
       "    </tr>\n",
       "  </thead>\n",
       "  <tbody>\n",
       "    <tr>\n",
       "      <th>0</th>\n",
       "      <td>0</td>\n",
       "      <td>90409</td>\n",
       "      <td>5</td>\n",
       "    </tr>\n",
       "    <tr>\n",
       "      <th>1</th>\n",
       "      <td>161</td>\n",
       "      <td>90409</td>\n",
       "      <td>5</td>\n",
       "    </tr>\n",
       "    <tr>\n",
       "      <th>2</th>\n",
       "      <td>466</td>\n",
       "      <td>90409</td>\n",
       "      <td>3</td>\n",
       "    </tr>\n",
       "    <tr>\n",
       "      <th>3</th>\n",
       "      <td>587</td>\n",
       "      <td>90409</td>\n",
       "      <td>5</td>\n",
       "    </tr>\n",
       "    <tr>\n",
       "      <th>4</th>\n",
       "      <td>695</td>\n",
       "      <td>90409</td>\n",
       "      <td>5</td>\n",
       "    </tr>\n",
       "  </tbody>\n",
       "</table>\n",
       "</div>"
      ],
      "text/plain": [
       "   userID  songID  rating\n",
       "0       0   90409       5\n",
       "1     161   90409       5\n",
       "2     466   90409       3\n",
       "3     587   90409       5\n",
       "4     695   90409       5"
      ]
     },
     "execution_count": 8,
     "metadata": {},
     "output_type": "execute_result"
    }
   ],
   "source": [
    "df_GT1000.head() "
   ]
  },
  {
   "cell_type": "code",
   "execution_count": 9,
   "metadata": {},
   "outputs": [],
   "source": [
    "# train test split to be done here first"
   ]
  },
  {
   "cell_type": "markdown",
   "metadata": {},
   "source": [
    "### Create the matrix"
   ]
  },
  {
   "cell_type": "code",
   "execution_count": 10,
   "metadata": {},
   "outputs": [
    {
     "data": {
      "text/plain": [
       "rating\n",
       "5    26664\n",
       "1    13634\n",
       "4    13429\n",
       "3    11277\n",
       "2     7042\n",
       "Name: count, dtype: int64"
      ]
     },
     "execution_count": 10,
     "metadata": {},
     "output_type": "execute_result"
    }
   ],
   "source": [
    "df_GT1000['rating'].value_counts()"
   ]
  },
  {
   "cell_type": "code",
   "execution_count": 11,
   "metadata": {},
   "outputs": [
    {
     "data": {
      "text/html": [
       "<div>\n",
       "<style scoped>\n",
       "    .dataframe tbody tr th:only-of-type {\n",
       "        vertical-align: middle;\n",
       "    }\n",
       "\n",
       "    .dataframe tbody tr th {\n",
       "        vertical-align: top;\n",
       "    }\n",
       "\n",
       "    .dataframe thead th {\n",
       "        text-align: right;\n",
       "    }\n",
       "</style>\n",
       "<table border=\"1\" class=\"dataframe\">\n",
       "  <thead>\n",
       "    <tr style=\"text-align: right;\">\n",
       "      <th>songID</th>\n",
       "      <th>2263</th>\n",
       "      <th>2726</th>\n",
       "      <th>3785</th>\n",
       "      <th>8063</th>\n",
       "      <th>12709</th>\n",
       "      <th>13859</th>\n",
       "      <th>16548</th>\n",
       "      <th>17029</th>\n",
       "      <th>19299</th>\n",
       "      <th>19670</th>\n",
       "      <th>...</th>\n",
       "      <th>113954</th>\n",
       "      <th>119103</th>\n",
       "      <th>120147</th>\n",
       "      <th>122065</th>\n",
       "      <th>123176</th>\n",
       "      <th>125557</th>\n",
       "      <th>126757</th>\n",
       "      <th>131048</th>\n",
       "      <th>132189</th>\n",
       "      <th>134732</th>\n",
       "    </tr>\n",
       "    <tr>\n",
       "      <th>userID</th>\n",
       "      <th></th>\n",
       "      <th></th>\n",
       "      <th></th>\n",
       "      <th></th>\n",
       "      <th></th>\n",
       "      <th></th>\n",
       "      <th></th>\n",
       "      <th></th>\n",
       "      <th></th>\n",
       "      <th></th>\n",
       "      <th></th>\n",
       "      <th></th>\n",
       "      <th></th>\n",
       "      <th></th>\n",
       "      <th></th>\n",
       "      <th></th>\n",
       "      <th></th>\n",
       "      <th></th>\n",
       "      <th></th>\n",
       "      <th></th>\n",
       "      <th></th>\n",
       "    </tr>\n",
       "  </thead>\n",
       "  <tbody>\n",
       "    <tr>\n",
       "      <th>0</th>\n",
       "      <td>NaN</td>\n",
       "      <td>NaN</td>\n",
       "      <td>NaN</td>\n",
       "      <td>NaN</td>\n",
       "      <td>NaN</td>\n",
       "      <td>NaN</td>\n",
       "      <td>NaN</td>\n",
       "      <td>NaN</td>\n",
       "      <td>NaN</td>\n",
       "      <td>NaN</td>\n",
       "      <td>...</td>\n",
       "      <td>NaN</td>\n",
       "      <td>NaN</td>\n",
       "      <td>NaN</td>\n",
       "      <td>NaN</td>\n",
       "      <td>NaN</td>\n",
       "      <td>NaN</td>\n",
       "      <td>NaN</td>\n",
       "      <td>NaN</td>\n",
       "      <td>NaN</td>\n",
       "      <td>NaN</td>\n",
       "    </tr>\n",
       "    <tr>\n",
       "      <th>4</th>\n",
       "      <td>NaN</td>\n",
       "      <td>NaN</td>\n",
       "      <td>NaN</td>\n",
       "      <td>NaN</td>\n",
       "      <td>NaN</td>\n",
       "      <td>NaN</td>\n",
       "      <td>NaN</td>\n",
       "      <td>NaN</td>\n",
       "      <td>NaN</td>\n",
       "      <td>NaN</td>\n",
       "      <td>...</td>\n",
       "      <td>NaN</td>\n",
       "      <td>NaN</td>\n",
       "      <td>NaN</td>\n",
       "      <td>NaN</td>\n",
       "      <td>NaN</td>\n",
       "      <td>NaN</td>\n",
       "      <td>NaN</td>\n",
       "      <td>NaN</td>\n",
       "      <td>NaN</td>\n",
       "      <td>NaN</td>\n",
       "    </tr>\n",
       "    <tr>\n",
       "      <th>5</th>\n",
       "      <td>NaN</td>\n",
       "      <td>NaN</td>\n",
       "      <td>NaN</td>\n",
       "      <td>2.0</td>\n",
       "      <td>NaN</td>\n",
       "      <td>NaN</td>\n",
       "      <td>NaN</td>\n",
       "      <td>NaN</td>\n",
       "      <td>NaN</td>\n",
       "      <td>NaN</td>\n",
       "      <td>...</td>\n",
       "      <td>NaN</td>\n",
       "      <td>NaN</td>\n",
       "      <td>NaN</td>\n",
       "      <td>NaN</td>\n",
       "      <td>NaN</td>\n",
       "      <td>NaN</td>\n",
       "      <td>NaN</td>\n",
       "      <td>NaN</td>\n",
       "      <td>NaN</td>\n",
       "      <td>NaN</td>\n",
       "    </tr>\n",
       "    <tr>\n",
       "      <th>7</th>\n",
       "      <td>NaN</td>\n",
       "      <td>NaN</td>\n",
       "      <td>NaN</td>\n",
       "      <td>NaN</td>\n",
       "      <td>NaN</td>\n",
       "      <td>NaN</td>\n",
       "      <td>NaN</td>\n",
       "      <td>NaN</td>\n",
       "      <td>NaN</td>\n",
       "      <td>NaN</td>\n",
       "      <td>...</td>\n",
       "      <td>NaN</td>\n",
       "      <td>NaN</td>\n",
       "      <td>NaN</td>\n",
       "      <td>NaN</td>\n",
       "      <td>NaN</td>\n",
       "      <td>NaN</td>\n",
       "      <td>NaN</td>\n",
       "      <td>NaN</td>\n",
       "      <td>NaN</td>\n",
       "      <td>3.0</td>\n",
       "    </tr>\n",
       "    <tr>\n",
       "      <th>14</th>\n",
       "      <td>NaN</td>\n",
       "      <td>NaN</td>\n",
       "      <td>NaN</td>\n",
       "      <td>NaN</td>\n",
       "      <td>NaN</td>\n",
       "      <td>NaN</td>\n",
       "      <td>NaN</td>\n",
       "      <td>NaN</td>\n",
       "      <td>NaN</td>\n",
       "      <td>NaN</td>\n",
       "      <td>...</td>\n",
       "      <td>NaN</td>\n",
       "      <td>NaN</td>\n",
       "      <td>NaN</td>\n",
       "      <td>NaN</td>\n",
       "      <td>NaN</td>\n",
       "      <td>NaN</td>\n",
       "      <td>NaN</td>\n",
       "      <td>NaN</td>\n",
       "      <td>NaN</td>\n",
       "      <td>NaN</td>\n",
       "    </tr>\n",
       "  </tbody>\n",
       "</table>\n",
       "<p>5 rows × 56 columns</p>\n",
       "</div>"
      ],
      "text/plain": [
       "songID  2263    2726    3785    8063    12709   13859   16548   17029   \\\n",
       "userID                                                                   \n",
       "0          NaN     NaN     NaN     NaN     NaN     NaN     NaN     NaN   \n",
       "4          NaN     NaN     NaN     NaN     NaN     NaN     NaN     NaN   \n",
       "5          NaN     NaN     NaN     2.0     NaN     NaN     NaN     NaN   \n",
       "7          NaN     NaN     NaN     NaN     NaN     NaN     NaN     NaN   \n",
       "14         NaN     NaN     NaN     NaN     NaN     NaN     NaN     NaN   \n",
       "\n",
       "songID  19299   19670   ...  113954  119103  120147  122065  123176  125557  \\\n",
       "userID                  ...                                                   \n",
       "0          NaN     NaN  ...     NaN     NaN     NaN     NaN     NaN     NaN   \n",
       "4          NaN     NaN  ...     NaN     NaN     NaN     NaN     NaN     NaN   \n",
       "5          NaN     NaN  ...     NaN     NaN     NaN     NaN     NaN     NaN   \n",
       "7          NaN     NaN  ...     NaN     NaN     NaN     NaN     NaN     NaN   \n",
       "14         NaN     NaN  ...     NaN     NaN     NaN     NaN     NaN     NaN   \n",
       "\n",
       "songID  126757  131048  132189  134732  \n",
       "userID                                  \n",
       "0          NaN     NaN     NaN     NaN  \n",
       "4          NaN     NaN     NaN     NaN  \n",
       "5          NaN     NaN     NaN     NaN  \n",
       "7          NaN     NaN     NaN     3.0  \n",
       "14         NaN     NaN     NaN     NaN  \n",
       "\n",
       "[5 rows x 56 columns]"
      ]
     },
     "execution_count": 11,
     "metadata": {},
     "output_type": "execute_result"
    }
   ],
   "source": [
    "matrix = df_GT1000.pivot_table(index='userID', columns='songID', values='rating')\n",
    "matrix.head()"
   ]
  },
  {
   "cell_type": "code",
   "execution_count": 12,
   "metadata": {},
   "outputs": [
    {
     "name": "stdout",
     "output_type": "stream",
     "text": [
      "songID  2263    2726    3785    8063    12709   13859   16548   17029   \\\n",
      "userID                                                                   \n",
      "0          0.0     0.0     0.0     0.0     0.0     0.0     0.0     0.0   \n",
      "4          0.0     0.0     0.0     0.0     0.0     0.0     0.0     0.0   \n",
      "5          0.0     0.0     0.0     2.0     0.0     0.0     0.0     0.0   \n",
      "7          0.0     0.0     0.0     0.0     0.0     0.0     0.0     0.0   \n",
      "14         0.0     0.0     0.0     0.0     0.0     0.0     0.0     0.0   \n",
      "...        ...     ...     ...     ...     ...     ...     ...     ...   \n",
      "199976     0.0     0.0     0.0     0.0     0.0     0.0     0.0     0.0   \n",
      "199980     0.0     0.0     0.0     0.0     0.0     0.0     0.0     0.0   \n",
      "199988     0.0     5.0     0.0     0.0     0.0     0.0     0.0     0.0   \n",
      "199990     0.0     0.0     0.0     0.0     0.0     0.0     0.0     0.0   \n",
      "199996     5.0     0.0     0.0     0.0     0.0     0.0     0.0     0.0   \n",
      "\n",
      "songID  19299   19670   ...  113954  119103  120147  122065  123176  125557  \\\n",
      "userID                  ...                                                   \n",
      "0          0.0     0.0  ...     0.0     0.0     0.0     0.0     0.0     0.0   \n",
      "4          0.0     0.0  ...     0.0     0.0     0.0     0.0     0.0     0.0   \n",
      "5          0.0     0.0  ...     0.0     0.0     0.0     0.0     0.0     0.0   \n",
      "7          0.0     0.0  ...     0.0     0.0     0.0     0.0     0.0     0.0   \n",
      "14         0.0     0.0  ...     0.0     0.0     0.0     0.0     0.0     0.0   \n",
      "...        ...     ...  ...     ...     ...     ...     ...     ...     ...   \n",
      "199976     0.0     0.0  ...     0.0     0.0     0.0     0.0     0.0     0.0   \n",
      "199980     0.0     0.0  ...     0.0     0.0     0.0     0.0     0.0     0.0   \n",
      "199988     5.0     0.0  ...     0.0     0.0     0.0     0.0     0.0     0.0   \n",
      "199990     0.0     0.0  ...     0.0     0.0     0.0     0.0     0.0     0.0   \n",
      "199996     0.0     0.0  ...     0.0     0.0     0.0     0.0     0.0     0.0   \n",
      "\n",
      "songID  126757  131048  132189  134732  \n",
      "userID                                  \n",
      "0          0.0     0.0     0.0     0.0  \n",
      "4          0.0     0.0     0.0     0.0  \n",
      "5          0.0     0.0     0.0     0.0  \n",
      "7          0.0     0.0     0.0     3.0  \n",
      "14         0.0     0.0     0.0     0.0  \n",
      "...        ...     ...     ...     ...  \n",
      "199976     5.0     0.0     0.0     0.0  \n",
      "199980     0.0     0.0     0.0     0.0  \n",
      "199988     0.0     0.0     0.0     0.0  \n",
      "199990     0.0     0.0     0.0     0.0  \n",
      "199996     0.0     0.0     0.0     0.0  \n",
      "\n",
      "[53963 rows x 56 columns]\n"
     ]
    }
   ],
   "source": [
    "# dataset normalization\n",
    "normalized_matrix = matrix\n",
    "row_means = normalized_matrix.apply(lambda row: row.mean(), axis=1)\n",
    "normalized_matrix = normalized_matrix.sub(row_means, axis=0)\n",
    "normalized_matrix = matrix.fillna(0)\n",
    "print(normalized_matrix)"
   ]
  },
  {
   "cell_type": "code",
   "execution_count": 13,
   "metadata": {},
   "outputs": [
    {
     "name": "stdout",
     "output_type": "stream",
     "text": [
      "[[0. 0. 0. ... 0. 0. 0.]]\n"
     ]
    }
   ],
   "source": [
    "try:\n",
    "    # Define a picked userID\n",
    "    picked_userID = 4\n",
    "\n",
    "    # Extract the first row vector from the normalized_matrix\n",
    "    picked_row_vector = normalized_matrix.iloc[picked_userID].values.reshape(1, -1)\n",
    "\n",
    "    # Extract the rest of the row vectors excluding the picked_userID\n",
    "    rest_of_row_vectors = normalized_matrix.drop(picked_userID)\n",
    "\n",
    "    # Compute cosine similarity between the first row vector and the rest of the row vectors\n",
    "    similarity_scores = cosine_similarity(picked_row_vector, rest_of_row_vectors)\n",
    "\n",
    "    # Print the similarity scores\n",
    "    print(similarity_scores)\n",
    "\n",
    "except KeyError as e:\n",
    "    print(f\"The picked_userID {picked_userID} is not found in the index.\")\n",
    "    print(\"Available indices to choose from:\")\n",
    "    print(normalized_matrix.index)"
   ]
  },
  {
   "cell_type": "code",
   "execution_count": 14,
   "metadata": {},
   "outputs": [
    {
     "data": {
      "text/plain": [
       "Index([     0,      4,      5,      7,     14,     20,     31,     33,     40,\n",
       "           46,\n",
       "       ...\n",
       "       199956, 199969, 199973, 199974, 199975, 199976, 199980, 199988, 199990,\n",
       "       199996],\n",
       "      dtype='int64', name='userID', length=53963)"
      ]
     },
     "execution_count": 14,
     "metadata": {},
     "output_type": "execute_result"
    }
   ],
   "source": [
    "# for reference\n",
    "normalized_matrix.index"
   ]
  },
  {
   "cell_type": "code",
   "execution_count": 15,
   "metadata": {},
   "outputs": [
    {
     "name": "stdout",
     "output_type": "stream",
     "text": [
      "The top most common userID to picked_userID 4 is: 14\n"
     ]
    }
   ],
   "source": [
    "# testing out with a particular userID\n",
    "import pandas as pd\n",
    "\n",
    "# Convert similarity_scores to a pandas Series\n",
    "similarity_scores_series = pd.Series(similarity_scores.flatten(), index=rest_of_row_vectors.index)\n",
    "\n",
    "# Find the index label of the maximum similarity score\n",
    "most_similar_userID = similarity_scores_series.idxmax()\n",
    "\n",
    "print(f\"The top most common userID to picked_userID {picked_userID} is: {most_similar_userID}\")"
   ]
  },
  {
   "cell_type": "markdown",
   "metadata": {},
   "source": [
    "Predicted ratings (formula)\n",
    "$$r_{xi} = \\frac{\\sum_{y \\in N} s_{xy} \\cdot r_{yi}}{\\sum_{y \\in N} s_{xy}}$$\n",
    "\n",
    "To obtain the predicted rating of user x on item i. We need to first get the top N users in terms of similarity with respect to item i. \n",
    "\n",
    "Suppose that the use users are y, then we take the rating as:\n",
    "$$\\frac{{\\text{(similarity scores of $y$ and $x$)} \\cdot \\text{(rating given on item $i$ on $y$)}}}{{\\text{sum of similarity scores of $y$ and $x$}}}\n",
    "$$"
   ]
  },
  {
   "cell_type": "code",
   "execution_count": 38,
   "metadata": {},
   "outputs": [
    {
     "name": "stdout",
     "output_type": "stream",
     "text": [
      "The predicted rating of songID 2263 for picked_userID 4 is: 0.0\n"
     ]
    }
   ],
   "source": [
    "#================================================================================================\n",
    "# predict the rating of a song for a user\n",
    "#================================================================================================\n",
    "\n",
    "# suppose that we want to find the predicted rating of songID 2263 for picked_userID 4\n",
    "# top N similar userIDs\n",
    "N = 10\n",
    "songID = 2263\n",
    "picked_userID = 4\n",
    "\n",
    "# modularizing similarity scores as a function\n",
    "def similarity_scores(picked_userID, normalized_matrix):\n",
    "    try:\n",
    "        # Extract the first row vector from the normalized_matrix\n",
    "        picked_row_vector = normalized_matrix.iloc[picked_userID].values.reshape(1, -1)\n",
    "\n",
    "        # Extract the rest of the row vectors excluding the picked_userID\n",
    "        rest_of_row_vectors = normalized_matrix.drop(picked_userID)\n",
    "\n",
    "        # Compute cosine similarity between the first row vector and the rest of the row vectors\n",
    "        similarity_scores = cosine_similarity(picked_row_vector, rest_of_row_vectors)\n",
    "\n",
    "        # Print the similarity scores\n",
    "        return(similarity_scores)\n",
    "\n",
    "    except KeyError as e:\n",
    "        print(f\"The picked_userID {picked_userID} is not found in the index.\")\n",
    "        print(\"Available indices to choose from:\")\n",
    "        print(normalized_matrix.index)\n",
    "\n",
    "try:\n",
    "    similarity_scores_series = pd.Series(similarity_scores(picked_userID, normalized_matrix).flatten(), index=rest_of_row_vectors.index)\n",
    "    top_n_similar_userIDs = similarity_scores_series.nlargest(N).index.tolist()\n",
    "    \n",
    "    # retaining only the top N similar userIDs\n",
    "    similarity_scores_series = similarity_scores_series[top_n_similar_userIDs]\n",
    "    \n",
    "    denom = np.sum(similarity_scores_series)\n",
    "    matrix_adj = matrix.fillna(0)\n",
    "    numer = np.sum(similarity_scores_series * matrix_adj.loc[top_n_similar_userIDs, songID])\n",
    "    \n",
    "    predicted_rating = numer / denom\n",
    "    print(f\"The predicted rating of songID {songID} for picked_userID {picked_userID} is: {predicted_rating}\")\n",
    "    \n",
    "except KeyError as e:\n",
    "    print(f\"The songID {songID} is not found in the columns; pick from the list of available songIDs below:\")\n",
    "    print(f\"{normalized_matrix.columns}\")"
   ]
  },
  {
   "cell_type": "code",
   "execution_count": 39,
   "metadata": {},
   "outputs": [
    {
     "name": "stdout",
     "output_type": "stream",
     "text": [
      "[14, 986, 1071, 1101, 1412, 1495, 1591, 1968, 2173, 2753]\n"
     ]
    },
    {
     "data": {
      "text/plain": [
       "userID\n",
       "14      0.0\n",
       "986     0.0\n",
       "1071    0.0\n",
       "1101    0.0\n",
       "1412    0.0\n",
       "1495    0.0\n",
       "1591    0.0\n",
       "1968    0.0\n",
       "2173    0.0\n",
       "2753    0.0\n",
       "Name: 2263, dtype: float64"
      ]
     },
     "execution_count": 39,
     "metadata": {},
     "output_type": "execute_result"
    }
   ],
   "source": [
    "print(top_n_similar_userIDs)\n",
    "matrix_adj.loc[top_n_similar_userIDs, songID]"
   ]
  },
  {
   "cell_type": "code",
   "execution_count": 66,
   "metadata": {},
   "outputs": [],
   "source": [
    "# attributions\n",
    "\n",
    "# https://colab.research.google.com/drive/1cN44RlIEaB28FTD30qFiHkN3rqcDgcng?usp=sharing#scrollTo=1Zo4UEFWJVyt\n",
    "# https://www.youtube.com/watch?v=h9gpufJFF-0&ab_channel=ArtificialIntelligence-AllinOne\n",
    "# https://www.youtube.com/watch?v=6BTLobS7AU8&t=728s&ab_channel=ArtificialIntelligence-AllinOne\n",
    "# ChatGPT and Copilot to format code"
   ]
  }
 ],
 "metadata": {
  "kernelspec": {
   "display_name": "Python 3",
   "language": "python",
   "name": "python3"
  },
  "language_info": {
   "codemirror_mode": {
    "name": "ipython",
    "version": 3
   },
   "file_extension": ".py",
   "mimetype": "text/x-python",
   "name": "python",
   "nbconvert_exporter": "python",
   "pygments_lexer": "ipython3",
   "version": "3.11.4"
  }
 },
 "nbformat": 4,
 "nbformat_minor": 2
}
