{
 "cells": [
  {
   "cell_type": "code",
   "execution_count": 18,
   "metadata": {},
   "outputs": [],
   "source": [
    "# Data processing\n",
    "import pandas as pd\n",
    "from sklearn.model_selection import train_test_split\n",
    "import numpy as np\n",
    "import scipy.stats\n",
    "\n",
    "# Visualization\n",
    "import seaborn as sns\n",
    "\n",
    "# Similarity\n",
    "from sklearn.metrics.pairwise import cosine_similarity"
   ]
  },
  {
   "cell_type": "code",
   "execution_count": 15,
   "metadata": {},
   "outputs": [],
   "source": [
    "%%capture\n",
    "%run item_item_collaborative_filtering.ipynb"
   ]
  },
  {
   "cell_type": "code",
   "execution_count": 4,
   "metadata": {},
   "outputs": [],
   "source": [
    "matrix = pd.read_pickle(\"../data/item_matrix.pkl\")"
   ]
  },
  {
   "cell_type": "code",
   "execution_count": 19,
   "metadata": {},
   "outputs": [
    {
     "name": "stdout",
     "output_type": "stream",
     "text": [
      "Train matrix shape: (56, 43170)\n",
      "Test matrix shape: (56, 10793)\n"
     ]
    }
   ],
   "source": [
    "transposed_matrix = matrix.transpose()\n",
    "train_transposed, test_transposed = train_test_split(transposed_matrix, test_size=0.2, random_state=42)\n",
    "\n",
    "# Transpose the train and test sets back to the original format\n",
    "train_matrix = train_transposed.transpose()\n",
    "test_matrix = test_transposed.transpose()"
   ]
  },
  {
   "cell_type": "code",
   "execution_count": 21,
   "metadata": {},
   "outputs": [
    {
     "name": "stdout",
     "output_type": "stream",
     "text": [
      "RMSE: 3.686965051756149\n"
     ]
    }
   ],
   "source": [
    "# finding RMSE\n",
    "N = 10\n",
    "actual_ratings_list = []\n",
    "predicted_ratings_list = []\n",
    "\n",
    "# Function to calculate RMSE\n",
    "def calculate_rmse(actual_ratings, predicted_ratings):\n",
    "    return np.sqrt(np.mean((actual_ratings - predicted_ratings) ** 2))\n",
    "\n",
    "for userID in test_matrix.columns:\n",
    "    for songID in test_matrix.index:\n",
    "        actual_rating = test_matrix.loc[songID, userID]\n",
    "        if not np.isnan(actual_rating): # disregarding NA values\n",
    "            actual_ratings_list.append(actual_rating)\n",
    "            \n",
    "            # calculate the predicted rating\n",
    "            predicted_rating = get_predicted_ratings(songID, N, userID, test_matrix)\n",
    "            predicted_ratings_list.append(predicted_rating)\n",
    "\n",
    "# Convert lists to numpy arrays for calculation\n",
    "actual_ratings_array = np.array(actual_ratings_list)\n",
    "predicted_ratings_array = np.array(predicted_ratings_list)\n",
    "            \n",
    "# Calculate RMSE only for non-zero and non-NaN ratings\n",
    "non_zero_indices = np.where(actual_ratings_array != 0)[0]  # Indices of non-zero ratings\n",
    "actual_ratings_non_zero = actual_ratings_array[non_zero_indices]\n",
    "predicted_ratings_non_zero = predicted_ratings_array[non_zero_indices]\n",
    "\n",
    "# Calculate RMSE\n",
    "rmse = calculate_rmse(actual_ratings_non_zero, predicted_ratings_non_zero)\n",
    "print(\"RMSE:\", rmse)"
   ]
  },
  {
   "cell_type": "code",
   "execution_count": null,
   "metadata": {},
   "outputs": [],
   "source": []
  }
 ],
 "metadata": {
  "kernelspec": {
   "display_name": "Python 3",
   "language": "python",
   "name": "python3"
  },
  "language_info": {
   "codemirror_mode": {
    "name": "ipython",
    "version": 3
   },
   "file_extension": ".py",
   "mimetype": "text/x-python",
   "name": "python",
   "nbconvert_exporter": "python",
   "pygments_lexer": "ipython3",
   "version": "3.12.1"
  }
 },
 "nbformat": 4,
 "nbformat_minor": 2
}
