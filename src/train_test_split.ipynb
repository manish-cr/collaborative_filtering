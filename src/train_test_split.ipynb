{
 "cells": [
  {
   "cell_type": "code",
   "execution_count": 1,
   "metadata": {},
   "outputs": [
    {
     "name": "stderr",
     "output_type": "stream",
     "text": [
      "C:\\Users\\Manish Seal\\AppData\\Local\\Temp\\ipykernel_18192\\1647266666.py:2: DeprecationWarning: \n",
      "Pyarrow will become a required dependency of pandas in the next major release of pandas (pandas 3.0),\n",
      "(to allow more performant data types, such as the Arrow string type, and better interoperability with other libraries)\n",
      "but was not found to be installed on your system.\n",
      "If this would cause problems for you,\n",
      "please provide us feedback at https://github.com/pandas-dev/pandas/issues/54466\n",
      "        \n",
      "  import pandas as pd\n"
     ]
    }
   ],
   "source": [
    "# Data processing\n",
    "import pandas as pd\n",
    "from sklearn.model_selection import train_test_split\n",
    "import numpy as np\n",
    "import scipy.stats\n",
    "\n",
    "# Visualization\n",
    "import seaborn as sns\n",
    "\n",
    "# Similarity\n",
    "from sklearn.metrics.pairwise import cosine_similarity"
   ]
  },
  {
   "cell_type": "code",
   "execution_count": 2,
   "metadata": {},
   "outputs": [],
   "source": [
    "%%capture\n",
    "%run item_item_collaborative_filtering.ipynb"
   ]
  },
  {
   "cell_type": "code",
   "execution_count": 3,
   "metadata": {},
   "outputs": [],
   "source": [
    "matrix = pd.read_pickle(\"../data/item_matrix.pkl\")"
   ]
  },
  {
   "cell_type": "code",
   "execution_count": 4,
   "metadata": {},
   "outputs": [],
   "source": [
    "transposed_matrix = matrix.transpose()\n",
    "train_transposed, test_transposed = train_test_split(transposed_matrix, test_size=0.2, random_state=42)\n",
    "\n",
    "# Transpose the train and test sets back to the original format\n",
    "train_matrix = train_transposed.transpose()\n",
    "test_matrix = test_transposed.transpose()"
   ]
  },
  {
   "cell_type": "code",
   "execution_count": 35,
   "metadata": {},
   "outputs": [],
   "source": [
    "# finding RMSE\n",
    "N = 10\n",
    "\n",
    "# Function to calculate RMSE for the item-item collaborative filtering model\n",
    "def calculate_rmse_item(test_matrix, N):\n",
    "    actual_ratings_list = []\n",
    "    predicted_ratings_list = []\n",
    "    for userID in test_matrix.columns:\n",
    "        for songID in test_matrix.index:\n",
    "            actual_rating = test_matrix.loc[songID, userID]\n",
    "            if not np.isnan(actual_rating): # disregarding NA values\n",
    "                actual_ratings_list.append(actual_rating)\n",
    "                \n",
    "                # calculate the predicted rating\n",
    "                predicted_rating = get_predicted_ratings(songID, N, userID, test_matrix)\n",
    "                predicted_ratings_list.append(predicted_rating)\n",
    "\n",
    "    # Convert lists to numpy arrays for calculation\n",
    "    actual_ratings_array = np.array(actual_ratings_list)\n",
    "    predicted_ratings_array = np.array(predicted_ratings_list)\n",
    "                \n",
    "    # Calculate RMSE only for non-zero and non-NaN ratings\n",
    "    non_zero_indices = np.where(actual_ratings_array != 0)[0]  # Indices of non-zero ratings\n",
    "    actual_ratings_non_zero = actual_ratings_array[non_zero_indices]\n",
    "    predicted_ratings_non_zero = predicted_ratings_array[non_zero_indices]\n",
    "\n",
    "    # Calculate RMSE\n",
    "    return np.sqrt(np.mean((actual_ratings_non_zero - predicted_ratings_non_zero) ** 2))"
   ]
  },
  {
   "cell_type": "code",
   "execution_count": 36,
   "metadata": {},
   "outputs": [],
   "source": [
    "rmse = calculate_rmse_item(test_matrix, N)"
   ]
  },
  {
   "cell_type": "code",
   "execution_count": 26,
   "metadata": {},
   "outputs": [
    {
     "name": "stdout",
     "output_type": "stream",
     "text": [
      "RMSE for item-item collaborative filtering model: 3.69\n"
     ]
    }
   ],
   "source": [
    "print(f\"RMSE for item-item collaborative filtering model: {rmse:.2f}\")"
   ]
  }
 ],
 "metadata": {
  "kernelspec": {
   "display_name": "Python 3",
   "language": "python",
   "name": "python3"
  },
  "language_info": {
   "codemirror_mode": {
    "name": "ipython",
    "version": 3
   },
   "file_extension": ".py",
   "mimetype": "text/x-python",
   "name": "python",
   "nbconvert_exporter": "python",
   "pygments_lexer": "ipython3",
   "version": "3.12.1"
  }
 },
 "nbformat": 4,
 "nbformat_minor": 2
}
